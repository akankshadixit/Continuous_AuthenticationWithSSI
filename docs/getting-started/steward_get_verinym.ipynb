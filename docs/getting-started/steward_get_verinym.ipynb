{
 "cells": [
  {
   "cell_type": "code",
   "execution_count": 2,
   "metadata": {},
   "outputs": [
    {
     "name": "stdout",
     "output_type": "stream",
     "text": [
      "Getting started -> Getting Verinym\n",
      "Open Pool Ledger: pool1\n"
     ]
    },
    {
     "ename": "PoolLedgerInvalidPoolHandle",
     "evalue": "",
     "output_type": "error",
     "traceback": [
      "\u001b[0;31m---------------------------------------------------------------------------\u001b[0m",
      "\u001b[0;31mPoolLedgerInvalidPoolHandle\u001b[0m               Traceback (most recent call last)",
      "\u001b[0;32m<ipython-input-2-ca8493da2217>\u001b[0m in \u001b[0;36masync-def-wrapper\u001b[0;34m()\u001b[0m\n\u001b[1;32m     68\u001b[0m     \u001b[0mtime\u001b[0m\u001b[0;34m.\u001b[0m\u001b[0msleep\u001b[0m\u001b[0;34m(\u001b[0m\u001b[0;36m1\u001b[0m\u001b[0;34m)\u001b[0m  \u001b[0;31m# FIXME waiting for libindy thread complete\u001b[0m\u001b[0;34m\u001b[0m\u001b[0;34m\u001b[0m\u001b[0m\n",
      "\u001b[0;32m<ipython-input-2-ca8493da2217>\u001b[0m in \u001b[0;36mrun\u001b[0;34m()\u001b[0m\n\u001b[1;32m     27\u001b[0m \u001b[0;34m\u001b[0m\u001b[0m\n\u001b[1;32m     28\u001b[0m     \u001b[0mclient\u001b[0m \u001b[0;34m=\u001b[0m \u001b[0mMongoClient\u001b[0m\u001b[0;34m(\u001b[0m\u001b[0mhost\u001b[0m\u001b[0;34m=\u001b[0m\u001b[0;34m'steward_db'\u001b[0m\u001b[0;34m,\u001b[0m \u001b[0mport\u001b[0m\u001b[0;34m=\u001b[0m\u001b[0;36m27017\u001b[0m\u001b[0;34m,\u001b[0m \u001b[0musername\u001b[0m\u001b[0;34m=\u001b[0m\u001b[0;34m'root'\u001b[0m\u001b[0;34m,\u001b[0m \u001b[0mpassword\u001b[0m\u001b[0;34m=\u001b[0m\u001b[0;34m'pass'\u001b[0m\u001b[0;34m,\u001b[0m \u001b[0mauthSource\u001b[0m\u001b[0;34m=\u001b[0m\u001b[0;34m\"admin\"\u001b[0m\u001b[0;34m)\u001b[0m\u001b[0;34m\u001b[0m\u001b[0;34m\u001b[0m\u001b[0m\n\u001b[0;32m---> 29\u001b[0;31m     \u001b[0mdb\u001b[0m \u001b[0;34m=\u001b[0m \u001b[0mclient\u001b[0m\u001b[0;34m[\u001b[0m\u001b[0;34m\"steward_db\"\u001b[0m\u001b[0;34m]\u001b[0m\u001b[0;34m\u001b[0m\u001b[0;34m\u001b[0m\u001b[0m\n\u001b[0m\u001b[1;32m     30\u001b[0m \u001b[0;34m\u001b[0m\u001b[0m\n\u001b[1;32m     31\u001b[0m     \u001b[0mverinym_for\u001b[0m \u001b[0;34m=\u001b[0m \u001b[0mdb\u001b[0m\u001b[0;34m.\u001b[0m\u001b[0msteward_tb\u001b[0m\u001b[0;34m.\u001b[0m\u001b[0mfind_one\u001b[0m\u001b[0;34m(\u001b[0m\u001b[0;34m{\u001b[0m\u001b[0;34m\"name\"\u001b[0m\u001b[0;34m:\u001b[0m \u001b[0;34m\"verinym_for\"\u001b[0m\u001b[0;34m}\u001b[0m\u001b[0;34m)\u001b[0m\u001b[0;34m\u001b[0m\u001b[0;34m\u001b[0m\u001b[0m\n",
      "\u001b[0;32m/usr/local/lib/python3.6/dist-packages/indy/pool.py\u001b[0m in \u001b[0;36mopen_pool_ledger\u001b[0;34m(config_name, config)\u001b[0m\n\u001b[1;32m     80\u001b[0m                         \u001b[0mc_config_name\u001b[0m\u001b[0;34m,\u001b[0m\u001b[0;34m\u001b[0m\u001b[0;34m\u001b[0m\u001b[0m\n\u001b[1;32m     81\u001b[0m                         \u001b[0mc_config\u001b[0m\u001b[0;34m,\u001b[0m\u001b[0;34m\u001b[0m\u001b[0;34m\u001b[0m\u001b[0m\n\u001b[0;32m---> 82\u001b[0;31m                         open_pool_ledger.cb)\n\u001b[0m\u001b[1;32m     83\u001b[0m \u001b[0;34m\u001b[0m\u001b[0m\n\u001b[1;32m     84\u001b[0m     \u001b[0mlogger\u001b[0m\u001b[0;34m.\u001b[0m\u001b[0mdebug\u001b[0m\u001b[0;34m(\u001b[0m\u001b[0;34m\"open_pool_ledger: <<< res: %r\"\u001b[0m\u001b[0;34m,\u001b[0m \u001b[0mres\u001b[0m\u001b[0;34m)\u001b[0m\u001b[0;34m\u001b[0m\u001b[0;34m\u001b[0m\u001b[0m\n",
      "\u001b[0;31mPoolLedgerInvalidPoolHandle\u001b[0m: "
     ]
    }
   ],
   "source": [
    "import time\n",
    "import asyncio\n",
    "import pymongo\n",
    "import json\n",
    "from bson.json_util import dumps\n",
    "from pymongo import MongoClient\n",
    "from indy import anoncreds, did, ledger, pool, wallet, IndyError\n",
    "\n",
    "async def run():\n",
    "    print(\"Getting started -> Getting Verinym\")\n",
    "\n",
    "    # Set protocol version 2 to work with Indy Node 1.4\n",
    "    await pool.set_protocol_version(2)\n",
    "\n",
    "    pool_ = {\n",
    "        'name': 'pool1',\n",
    "        'config': json.dumps({\"genesis_txn\": '/home/indy/sandbox/pool_transactions_genesis'})\n",
    "    }\n",
    "    print(\"Open Pool Ledger: {}\".format(pool_['name']))\n",
    "\n",
    "    try:\n",
    "        await pool.create_pool_ledger_config(pool_['name'], pool_['config'])\n",
    "    except IndyError as ex:\n",
    "        if ex.error_code == 306:\n",
    "            pass\n",
    "    pool_['handle'] = await pool.open_pool_ledger(pool_['name'], None)\n",
    "\n",
    "    client = MongoClient(host='steward_db', port=27017, username='root', password='pass', authSource=\"admin\")\n",
    "    db = client[\"steward_db\"]\n",
    "\n",
    "    verinym_for = db.steward_tb.find_one({\"name\": \"verinym_for\"})\n",
    "\n",
    "    print (\"---------*****------\")\n",
    "    print (verinym_for)\n",
    "\n",
    "    entity = db.steward_tb.find_one({\"name\": verinym_for[\"value\"]})\n",
    "\n",
    "    steward = db.steward_tb.find_one({\"name\": \"Steward\"})\n",
    "\n",
    "    await getting_verinym(steward, entity)\n",
    "\n",
    "    db.steward_tb.find_one_and_update({\"name\": verinym_for[\"value\"]}, { \"$set\": entity }, upsert=True);\n",
    "\n",
    "    db.steward_tb.find_one_and_update({\"name\": \"Steward\"}, { \"$set\": steward }, upsert=True);\n",
    "\n",
    "    print(\"==============\")\n",
    "\n",
    "    print(entity)\n",
    "\n",
    "async def getting_verinym(from_, to):\n",
    "    from_['info'] = {\n",
    "        'did': to['did'],\n",
    "        'verkey': to['key'],\n",
    "        'role': to['role'] or None\n",
    "    }\n",
    "    await send_nym(from_['pool'], from_['wallet'], from_['did'], from_['info']['did'],\n",
    "                   from_['info']['verkey'], from_['info']['role'])\n",
    "\n",
    "async def send_nym(pool_handle, wallet_handle, _did, new_did, new_key, role):\n",
    "    nym_request = await ledger.build_nym_request(_did, new_did, new_key, None, role)\n",
    "    await ledger.sign_and_submit_request(pool_handle, wallet_handle, _did, nym_request)\n",
    "\n",
    "\n",
    "if __name__ == '__main__':\n",
    "    loop = asyncio.new_event_loop()\n",
    "    asyncio.set_event_loop(loop)\n",
    "    await run()\n",
    "    time.sleep(1)  # FIXME waiting for libindy thread complete\n"
   ]
  },
  {
   "cell_type": "code",
   "execution_count": null,
   "metadata": {},
   "outputs": [],
   "source": []
  }
 ],
 "metadata": {
  "kernelspec": {
   "display_name": "Python 3",
   "language": "python",
   "name": "python3"
  },
  "language_info": {
   "codemirror_mode": {
    "name": "ipython",
    "version": 3
   },
   "file_extension": ".py",
   "mimetype": "text/x-python",
   "name": "python",
   "nbconvert_exporter": "python",
   "pygments_lexer": "ipython3",
   "version": "3.6.9"
  }
 },
 "nbformat": 4,
 "nbformat_minor": 2
}
