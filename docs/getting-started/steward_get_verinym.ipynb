{
 "cells": [
  {
   "cell_type": "code",
   "execution_count": 1,
   "metadata": {},
   "outputs": [
    {
     "name": "stdout",
     "output_type": "stream",
     "text": [
      "Getting started -> Getting Verinym\n",
      "Open Pool Ledger: pool1\n",
      "==============\n",
      "[{\"_id\": {\"$oid\": \"624ee10a00a9bf277cb9b9da\"}, \"name\": \"verinym_for\", \"value\": \"Vikram\"}, {\"_id\": {\"$oid\": \"624ee21577197bee8591ad5a\"}, \"name\": \"verinym_for\", \"value\": \"Vikram\"}]\n"
     ]
    }
   ],
   "source": [
    "import time\n",
    "import asyncio\n",
    "import pymongo\n",
    "import json\n",
    "from bson.json_util import dumps\n",
    "from pymongo import MongoClient\n",
    "from indy import anoncreds, did, ledger, pool, wallet, IndyError\n",
    "\n",
    "async def run():\n",
    "    print(\"Getting started -> Getting Verinym\")\n",
    "\n",
    "    # Set protocol version 2 to work with Indy Node 1.4\n",
    "    await pool.set_protocol_version(2)\n",
    "\n",
    "    pool_ = {\n",
    "        'name': 'pool1',\n",
    "        'config': json.dumps({\"genesis_txn\": '/home/indy/sandbox/pool_transactions_genesis'})\n",
    "    }\n",
    "    print(\"Open Pool Ledger: {}\".format(pool_['name']))\n",
    "\n",
    "    try:\n",
    "        await pool.create_pool_ledger_config(pool_['name'], pool_['config'])\n",
    "    except IndyError as ex:\n",
    "        if ex.error_code == 306:\n",
    "            pass\n",
    "    pool_['handle'] = await pool.open_pool_ledger(pool_['name'], None)\n",
    "\n",
    "    client = MongoClient(host='steward_db', port=27017, username='root', password='pass', authSource=\"admin\")\n",
    "    db = client[\"steward_db\"]\n",
    "\n",
    "    verinym_for = db.steward_tb.find_one({\"name\": \"verinym_for\"})\n",
    "\n",
    "    entity = db.steward_tb.find_one({\"name\": verinym_for[\"value\"]})\n",
    "\n",
    "    steward = db.steward_tb.find_one({\"name\": \"Steward\"})\n",
    "\n",
    "    await getting_verinym(steward, entity)\n",
    "\n",
    "    db.steward_tb.find_one_and_update({\"name\": verinym_for[\"value\"]}, { \"$set\": entity }, upsert=True);\n",
    "\n",
    "    db.steward_tb.find_one_and_update({\"name\": \"Steward\"}, { \"$set\": steward }, upsert=True);\n",
    "\n",
    "    print(\"==============\")\n",
    "\n",
    "    print(entity)\n",
    "\n",
    "async def getting_verinym(from_, to):\n",
    "    from_['info'] = {\n",
    "        'did': to['did'],\n",
    "        'verkey': to['key'],\n",
    "        'role': to['role'] or None\n",
    "    }\n",
    "    await send_nym(from_['pool'], from_['wallet'], from_['did'], from_['info']['did'],\n",
    "                   from_['info']['verkey'], from_['info']['role'])\n",
    "\n",
    "async def send_nym(pool_handle, wallet_handle, _did, new_did, new_key, role):\n",
    "    nym_request = await ledger.build_nym_request(_did, new_did, new_key, None, role)\n",
    "    await ledger.sign_and_submit_request(pool_handle, wallet_handle, _did, nym_request)\n",
    "\n",
    "\n",
    "if __name__ == '__main__':\n",
    "    loop = asyncio.new_event_loop()\n",
    "    asyncio.set_event_loop(loop)\n",
    "    await run()\n",
    "    time.sleep(1)  # FIXME waiting for libindy thread complete\n"
   ]
  },
  {
   "cell_type": "code",
   "execution_count": null,
   "metadata": {},
   "outputs": [],
   "source": []
  }
 ],
 "metadata": {
  "kernelspec": {
   "display_name": "Python 3",
   "language": "python",
   "name": "python3"
  },
  "language_info": {
   "codemirror_mode": {
    "name": "ipython",
    "version": 3
   },
   "file_extension": ".py",
   "mimetype": "text/x-python",
   "name": "python",
   "nbconvert_exporter": "python",
   "pygments_lexer": "ipython3",
   "version": "3.6.9"
  }
 },
 "nbformat": 4,
 "nbformat_minor": 2
}
