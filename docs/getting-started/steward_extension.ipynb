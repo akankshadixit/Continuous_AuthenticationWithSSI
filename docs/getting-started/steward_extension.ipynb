{
 "cells": [
  {
   "cell_type": "code",
   "execution_count": null,
   "metadata": {},
   "outputs": [],
   "source": [
    "import time\n",
    "import asyncio\n",
    "import pymongo\n",
    "import json\n",
    "from pymongo import MongoClient\n",
    "from indy import anoncreds, did, ledger, pool, wallet, IndyError\n",
    "from ipynb.fs.full.steward import getting_verinym\n",
    "\n",
    "\n",
    "\n",
    "async def supplier_registration(steward, supplier):\n",
    "    await getting_verinym(steward, supplier)"
   ]
  }
 ],
 "metadata": {
  "language_info": {
   "name": "python"
  },
  "orig_nbformat": 4
 },
 "nbformat": 4,
 "nbformat_minor": 2
}
