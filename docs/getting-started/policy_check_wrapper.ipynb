{
 "cells": [
  {
   "cell_type": "code",
   "execution_count": null,
   "metadata": {},
   "outputs": [],
   "source": [
    "import json\n",
    "from datetime import datetime\n",
    "from datetime import timedelta\n",
    "\n",
    "async def device_policy_check(device_data, policies):\n",
    "  authenticated = True\n",
    "  authorised = True\n",
    "\n",
    "  if datetime.now() > device_data['authentication_expiry']:\n",
    "    authenticated = False\n",
    "    authorised = False\n",
    "\n",
    "  if device_data['location'] not in policies['valid_locations']:\n",
    "    authorised = False\n",
    "\n",
    "  if device_data['manufacturer'] not in policies['valid_manufacturers']:\n",
    "    authorised = False\n",
    "\n",
    "  if datetime.now() > device_data['expiry']:\n",
    "    authorised = False\n",
    "\n",
    "  if policies['max_temperature'] < device_data['temperature']:\n",
    "    authorised = False\n",
    "\n",
    "  if policies['max_access_count'] < device_data['access_count']:\n",
    "    authorised = False\n",
    "\n",
    "  return {'authenticated': authenticated, 'authorised': authorised}\n",
    "\n"
   ]
  }
 ],
 "metadata": {
  "language_info": {
   "name": "python"
  },
  "orig_nbformat": 4
 },
 "nbformat": 4,
 "nbformat_minor": 2
}
