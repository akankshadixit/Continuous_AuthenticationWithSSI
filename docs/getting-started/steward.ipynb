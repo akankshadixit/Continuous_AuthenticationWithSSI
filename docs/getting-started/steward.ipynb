{
 "cells": [
  {
   "cell_type": "code",
   "execution_count": 1,
   "metadata": {
    "execution": {
     "iopub.execute_input": "2022-04-22T13:24:55.598166Z",
     "iopub.status.busy": "2022-04-22T13:24:55.578514Z",
     "iopub.status.idle": "2022-04-22T13:25:05.083677Z",
     "shell.execute_reply": "2022-04-22T13:25:05.077565Z"
    }
   },
   "outputs": [
    {
     "name": "stdout",
     "output_type": "stream",
     "text": [
      "Getting started -> started\n",
      "Open Pool Ledger: pool1\n",
      "\"Sovrin Steward\" -> Create wallet\n",
      "\"Sovrin Steward\" -> Create and store in Wallet DID from seed\n",
      "==============================\n",
      " \"Sovrin Steward\" -> Close and Delete wallet\n",
      "Close and Delete pool\n",
      "Getting started -> done\n"
     ]
    }
   ],
   "source": [
    "import time\n",
    "import asyncio\n",
    "import pymongo\n",
    "import json\n",
    "from pymongo import MongoClient\n",
    "from indy import anoncreds, did, ledger, pool, wallet, IndyError\n",
    "\n",
    "async def run():\n",
    "    print(\"Getting started -> started\")\n",
    "\n",
    "    # Set protocol version 2 to work with Indy Node 1.4\n",
    "    await pool.set_protocol_version(2)\n",
    "\n",
    "    pool_ = {\n",
    "        'name': 'pool1',\n",
    "        'config': json.dumps({\"genesis_txn\": '/home/indy/sandbox/pool_transactions_genesis'})\n",
    "    }\n",
    "    print(\"Open Pool Ledger: {}\".format(pool_['name']))\n",
    "\n",
    "    try:\n",
    "        await pool.create_pool_ledger_config(pool_['name'], pool_['config'])\n",
    "    except IndyError as ex:\n",
    "        if ex.error_code == 306:\n",
    "            pass\n",
    "    pool_['handle'] = await pool.open_pool_ledger(pool_['name'], None)\n",
    "\n",
    "    client = MongoClient(host='steward_db', port=27017, username='root', password='pass', authSource=\"admin\")\n",
    "    db = client[\"steward_db\"]\n",
    "\n",
    "    steward = {\n",
    "        'name': \"Sovrin Steward\",\n",
    "        'wallet_config': json.dumps({'id': 'sovrin_steward_wallet'}),\n",
    "        'wallet_credentials': json.dumps({'key': 'steward_wallet_key'}),\n",
    "        'pool': pool_['handle'],\n",
    "        'seed': '000000000000000000000000Steward1'\n",
    "    }\n",
    "\n",
    "    await create_wallet(steward)\n",
    "\n",
    "    print(\"\\\"Sovrin Steward\\\" -> Create and store in Wallet DID from seed\")\n",
    "    steward['did_info'] = json.dumps({'seed': steward['seed']})\n",
    "    steward['did'], steward['key'] = await did.create_and_store_my_did(steward['wallet'], steward['did_info'])\n",
    "\n",
    "    db.steward_tb.insert_one(steward);\n",
    "\n",
    "    print(\"==============================\")\n",
    "\n",
    "    print(\" \\\"Sovrin Steward\\\" -> Close and Delete wallet\")\n",
    "    await wallet.close_wallet(steward['wallet'])\n",
    "    await wallet.delete_wallet(steward['wallet_config'], steward['wallet_credentials'])\n",
    "\n",
    "    print(\"Close and Delete pool\")\n",
    "    await pool.close_pool_ledger(pool_['handle'])\n",
    "    await pool.delete_pool_ledger_config(pool_['name'])\n",
    "\n",
    "    print(\"Getting started -> done\")\n",
    "\n",
    "\n",
    "async def create_wallet(identity):\n",
    "    print(\"\\\"{}\\\" -> Create wallet\".format(identity['name']))\n",
    "    try:\n",
    "        await wallet.create_wallet(identity['wallet_config'], identity['wallet_credentials'])\n",
    "    except IndyError as ex:\n",
    "        if ex.error_code == 306:\n",
    "            pass\n",
    "    identity['wallet'] = await wallet.open_wallet(identity['wallet_config'], identity['wallet_credentials'])\n",
    "\n",
    "\n",
    "if __name__ == '__main__':\n",
    "    loop = asyncio.new_event_loop()\n",
    "    asyncio.set_event_loop(loop)\n",
    "    await run()\n",
    "    time.sleep(1)  # FIXME waiting for libindy thread complete\n"
   ]
  },
  {
   "cell_type": "code",
   "execution_count": null,
   "metadata": {},
   "outputs": [],
   "source": []
  },
  {
   "cell_type": "code",
   "execution_count": null,
   "metadata": {},
   "outputs": [],
   "source": []
  },
  {
   "cell_type": "code",
   "execution_count": null,
   "metadata": {},
   "outputs": [],
   "source": []
  },
  {
   "cell_type": "code",
   "execution_count": null,
   "metadata": {},
   "outputs": [],
   "source": []
  }
 ],
 "metadata": {
  "kernelspec": {
   "display_name": "Python 3",
   "language": "python",
   "name": "python3"
  },
  "language_info": {
   "codemirror_mode": {
    "name": "ipython",
    "version": 3
   },
   "file_extension": ".py",
   "mimetype": "text/x-python",
   "name": "python",
   "nbconvert_exporter": "python",
   "pygments_lexer": "ipython3",
   "version": "3.6.9"
  }
 },
 "nbformat": 4,
 "nbformat_minor": 2
}
