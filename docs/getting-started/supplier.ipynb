{
 "cells": [
  {
   "cell_type": "code",
   "execution_count": 1,
   "metadata": {},
   "outputs": [
    {
     "name": "stdout",
     "output_type": "stream",
     "text": [
      "Supplier -> started\n",
      "Open Pool Ledger: pool1\n",
      "==============================\n",
      "== Getting Trust Anchor credentials - Supplier getting Verinym  ==\n",
      "------------------------------\n",
      "\"Supplier\" -> Create wallet\n"
     ]
    },
    {
     "ename": "TypeError",
     "evalue": "'Response' object is not subscriptable",
     "output_type": "error",
     "traceback": [
      "\u001b[0;31m---------------------------------------------------------------------------\u001b[0m",
      "\u001b[0;31mTypeError\u001b[0m                                 Traceback (most recent call last)",
      "\u001b[0;32m<ipython-input-1-471b02627b7c>\u001b[0m in \u001b[0;36masync-def-wrapper\u001b[0;34m()\u001b[0m\n\u001b[1;32m     66\u001b[0m     \u001b[0mtime\u001b[0m\u001b[0;34m.\u001b[0m\u001b[0msleep\u001b[0m\u001b[0;34m(\u001b[0m\u001b[0;36m1\u001b[0m\u001b[0;34m)\u001b[0m  \u001b[0;31m# FIXME waiting for libindy thread complete\u001b[0m\u001b[0;34m\u001b[0m\u001b[0;34m\u001b[0m\u001b[0m\n",
      "\u001b[0;32m<ipython-input-1-471b02627b7c>\u001b[0m in \u001b[0;36mrun\u001b[0;34m()\u001b[0m\n\u001b[1;32m     45\u001b[0m \u001b[0;34m\u001b[0m\u001b[0m\n\u001b[1;32m     46\u001b[0m     \u001b[0mprint\u001b[0m\u001b[0;34m(\u001b[0m\u001b[0;34m\"Close and Delete pool\"\u001b[0m\u001b[0;34m)\u001b[0m\u001b[0;34m\u001b[0m\u001b[0;34m\u001b[0m\u001b[0m\n\u001b[0;32m---> 47\u001b[0;31m     \u001b[0mawait\u001b[0m \u001b[0mpool\u001b[0m\u001b[0;34m.\u001b[0m\u001b[0mclose_pool_ledger\u001b[0m\u001b[0;34m(\u001b[0m\u001b[0mpool_\u001b[0m\u001b[0;34m[\u001b[0m\u001b[0;34m'handle'\u001b[0m\u001b[0;34m]\u001b[0m\u001b[0;34m)\u001b[0m\u001b[0;34m\u001b[0m\u001b[0;34m\u001b[0m\u001b[0m\n\u001b[0m\u001b[1;32m     48\u001b[0m     \u001b[0mawait\u001b[0m \u001b[0mpool\u001b[0m\u001b[0;34m.\u001b[0m\u001b[0mdelete_pool_ledger_config\u001b[0m\u001b[0;34m(\u001b[0m\u001b[0mpool_\u001b[0m\u001b[0;34m[\u001b[0m\u001b[0;34m'name'\u001b[0m\u001b[0;34m]\u001b[0m\u001b[0;34m)\u001b[0m\u001b[0;34m\u001b[0m\u001b[0;34m\u001b[0m\u001b[0m\n\u001b[1;32m     49\u001b[0m \u001b[0;34m\u001b[0m\u001b[0m\n",
      "\u001b[0;31mTypeError\u001b[0m: 'Response' object is not subscriptable"
     ]
    }
   ],
   "source": [
    "import asyncio\n",
    "import time\n",
    "import requests\n",
    "from indy import anoncreds, did, ledger, pool, wallet, IndyError\n",
    "\n",
    "import json\n",
    "\n",
    "async def run():\n",
    "    print(\"Supplier -> started\")\n",
    "\n",
    "    # Set protocol version 2 to work with Indy Node 1.4\n",
    "    await pool.set_protocol_version(2)\n",
    "\n",
    "    pool_ = {\n",
    "        'name': 'pool1',\n",
    "        'config': json.dumps({\"genesis_txn\": '/home/indy/sandbox/pool_transactions_genesis'})\n",
    "    }\n",
    "    print(\"Open Pool Ledger: {}\".format(pool_['name']))\n",
    "\n",
    "    try:\n",
    "        await pool.create_pool_ledger_config(pool_['name'], pool_['config'])\n",
    "    except IndyError as ex:\n",
    "        if ex.error_code == ErrorCode.PoolLedgerConfigAlreadyExistsError:\n",
    "            pass\n",
    "    pool_['handle'] = await pool.open_pool_ledger(pool_['name'], None)\n",
    "\n",
    "    print(\"==============================\")\n",
    "    print(\"== Getting Trust Anchor credentials - Supplier getting Verinym  ==\")\n",
    "    print(\"------------------------------\")\n",
    "\n",
    "    supplier = {\n",
    "        'name': 'Supplier',\n",
    "        'wallet_config': json.dumps({'id': 'supplier_wallet'}),\n",
    "        'wallet_credentials': json.dumps({'key': 'supplier_wallet_key'}),\n",
    "        'pool': pool_['handle'],\n",
    "        'role': 'TRUST_ANCHOR'\n",
    "    }\n",
    "\n",
    "    await create_wallet(supplier)\n",
    "\n",
    "    (supplier['did'], supplier['key']) = await did.create_and_store_my_did(supplier['wallet'], \"{}\")\n",
    "\n",
    "    response = requests.post('http://steward:5000/get_trust_anchor_verinym', data = {'entity': supplier})\n",
    "    response = response.json()\n",
    "    print(response)\n",
    "    # supplier = response['entity']\n",
    "\n",
    "    print(\"Close and Delete pool\")\n",
    "    await pool.close_pool_ledger(pool_['handle'])\n",
    "    await pool.delete_pool_ledger_config(pool_['name'])\n",
    "\n",
    "    print(\"Getting started -> done\")\n",
    "\n",
    "async def create_wallet(identity):\n",
    "    print(\"\\\"{}\\\" -> Create wallet\".format(identity['name']))\n",
    "    try:\n",
    "        await wallet.create_wallet(identity['wallet_config'], identity['wallet_credentials'])\n",
    "    except IndyError as ex:\n",
    "        if ex.error_code == ErrorCode.PoolLedgerConfigAlreadyExistsError:\n",
    "            pass\n",
    "    identity['wallet'] = await wallet.open_wallet(identity['wallet_config'], identity['wallet_credentials'])\n",
    "\n",
    "\n",
    "if __name__ == '__main__':\n",
    "    loop = asyncio.new_event_loop()\n",
    "    asyncio.set_event_loop(loop)\n",
    "    await run()\n",
    "    time.sleep(1)  # FIXME waiting for libindy thread complete\n"
   ]
  },
  {
   "cell_type": "code",
   "execution_count": null,
   "metadata": {},
   "outputs": [],
   "source": []
  },
  {
   "cell_type": "code",
   "execution_count": null,
   "metadata": {},
   "outputs": [],
   "source": []
  },
  {
   "cell_type": "code",
   "execution_count": null,
   "metadata": {},
   "outputs": [],
   "source": []
  },
  {
   "cell_type": "code",
   "execution_count": null,
   "metadata": {},
   "outputs": [],
   "source": []
  }
 ],
 "metadata": {
  "kernelspec": {
   "display_name": "Python 3",
   "language": "python",
   "name": "python3"
  },
  "language_info": {
   "codemirror_mode": {
    "name": "ipython",
    "version": 3
   },
   "file_extension": ".py",
   "mimetype": "text/x-python",
   "name": "python",
   "nbconvert_exporter": "python",
   "pygments_lexer": "ipython3",
   "version": "3.6.9"
  }
 },
 "nbformat": 4,
 "nbformat_minor": 2
}
