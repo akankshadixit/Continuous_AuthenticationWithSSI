{
 "cells": [
  {
   "cell_type": "code",
   "execution_count": null,
   "metadata": {},
   "outputs": [],
   "source": [
    "import time\n",
    "import steward_wrapper\n",
    "from steward_wrapper import steward_registration, create_wallet, trustAnchor_registration, getting_verinym, send_nym, supplier_cred_schema, send_schema, supplier_cred_definition, get_schema, send_cred_def, device1_registration, supplier_create_credOffer, get_cred_def, retailerCreateProofRequest, supplierCreateCredential, deviceCreateCredRequest, get_credential_for_referent, prover_get_entities_from_ledger, verifier_get_entities_from_ledger\n",
    "\n",
    "valid_manufacturers = ['Intel', 'AMD']\n",
    "valid_locations = ['London']\n",
    "max_temperature = 40\n",
    "valid_authentication_time = 4\n",
    "\n",
    "client = MongoClient(host='steward_db', port=27017, username='root', password='pass', authSource=\"admin\")\n",
    "db = client[\"steward_db\"]\n",
    "\n",
    "device1 = db.steward_tb.find_one({\"name\": \"Device1\"})\n",
    "\n",
    "authentication_details = db.steward_tb.find_one({\"authentication\": \"Device1\"})\n",
    "\n"
   ]
  }
 ],
 "metadata": {
  "language_info": {
   "name": "python"
  },
  "orig_nbformat": 4
 },
 "nbformat": 4,
 "nbformat_minor": 2
}
